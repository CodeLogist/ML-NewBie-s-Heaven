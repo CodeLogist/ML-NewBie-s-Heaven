{
  "nbformat": 4,
  "nbformat_minor": 0,
  "metadata": {
    "colab": {
      "name": "Denoising.ipynb",
      "provenance": [],
      "collapsed_sections": []
    },
    "kernelspec": {
      "name": "python3",
      "display_name": "Python 3"
    },
    "accelerator": "GPU"
  },
  "cells": [
    {
      "cell_type": "code",
      "metadata": {
        "id": "IhAvCGrUwkTv",
        "colab_type": "code",
        "colab": {}
      },
      "source": [
        "import numpy as np\n",
        "import tensorflow as tf\n",
        "import matplotlib.pyplot as plt\n",
        "from tensorflow.examples.tutorials.mnist import input_data"
      ],
      "execution_count": 0,
      "outputs": []
    },
    {
      "cell_type": "code",
      "metadata": {
        "id": "CFMFtIp7u_0L",
        "colab_type": "code",
        "outputId": "dff1bf29-203f-44d5-e5d3-14aa2fc87c15",
        "colab": {
          "base_uri": "https://localhost:8080/",
          "height": 757
        }
      },
      "source": [
        "mnist=input_data.read_data_sets('MNIST_data',validation_size=0)\n",
        "img=mnist.train.images[2]\n",
        "plt.imshow(img.reshape((28,28)),cmap='gray')"
      ],
      "execution_count": 0,
      "outputs": [
        {
          "output_type": "stream",
          "text": [
            "WARNING: Logging before flag parsing goes to stderr.\n",
            "W0621 11:18:46.663933 139819073562496 deprecation.py:323] From <ipython-input-2-25f3bfc0dcce>:1: read_data_sets (from tensorflow.contrib.learn.python.learn.datasets.mnist) is deprecated and will be removed in a future version.\n",
            "Instructions for updating:\n",
            "Please use alternatives such as official/mnist/dataset.py from tensorflow/models.\n",
            "W0621 11:18:46.670040 139819073562496 deprecation.py:323] From /usr/local/lib/python3.6/dist-packages/tensorflow/contrib/learn/python/learn/datasets/mnist.py:260: maybe_download (from tensorflow.contrib.learn.python.learn.datasets.base) is deprecated and will be removed in a future version.\n",
            "Instructions for updating:\n",
            "Please write your own downloading logic.\n",
            "W0621 11:18:46.672486 139819073562496 deprecation.py:323] From /usr/local/lib/python3.6/dist-packages/tensorflow/contrib/learn/python/learn/datasets/base.py:252: _internal_retry.<locals>.wrap.<locals>.wrapped_fn (from tensorflow.contrib.learn.python.learn.datasets.base) is deprecated and will be removed in a future version.\n",
            "Instructions for updating:\n",
            "Please use urllib or similar directly.\n",
            "W0621 11:18:46.759313 139819073562496 deprecation.py:323] From /usr/local/lib/python3.6/dist-packages/tensorflow/contrib/learn/python/learn/datasets/mnist.py:262: extract_images (from tensorflow.contrib.learn.python.learn.datasets.mnist) is deprecated and will be removed in a future version.\n",
            "Instructions for updating:\n",
            "Please use tf.data to implement this functionality.\n"
          ],
          "name": "stderr"
        },
        {
          "output_type": "stream",
          "text": [
            "Successfully downloaded train-images-idx3-ubyte.gz 9912422 bytes.\n",
            "Extracting MNIST_data/train-images-idx3-ubyte.gz\n"
          ],
          "name": "stdout"
        },
        {
          "output_type": "stream",
          "text": [
            "W0621 11:18:47.016542 139819073562496 deprecation.py:323] From /usr/local/lib/python3.6/dist-packages/tensorflow/contrib/learn/python/learn/datasets/mnist.py:267: extract_labels (from tensorflow.contrib.learn.python.learn.datasets.mnist) is deprecated and will be removed in a future version.\n",
            "Instructions for updating:\n",
            "Please use tf.data to implement this functionality.\n",
            "W0621 11:18:47.087283 139819073562496 deprecation.py:323] From /usr/local/lib/python3.6/dist-packages/tensorflow/contrib/learn/python/learn/datasets/mnist.py:290: DataSet.__init__ (from tensorflow.contrib.learn.python.learn.datasets.mnist) is deprecated and will be removed in a future version.\n",
            "Instructions for updating:\n",
            "Please use alternatives such as official/mnist/dataset.py from tensorflow/models.\n"
          ],
          "name": "stderr"
        },
        {
          "output_type": "stream",
          "text": [
            "Successfully downloaded train-labels-idx1-ubyte.gz 28881 bytes.\n",
            "Extracting MNIST_data/train-labels-idx1-ubyte.gz\n",
            "Successfully downloaded t10k-images-idx3-ubyte.gz 1648877 bytes.\n",
            "Extracting MNIST_data/t10k-images-idx3-ubyte.gz\n",
            "Successfully downloaded t10k-labels-idx1-ubyte.gz 4542 bytes.\n",
            "Extracting MNIST_data/t10k-labels-idx1-ubyte.gz\n"
          ],
          "name": "stdout"
        },
        {
          "output_type": "execute_result",
          "data": {
            "text/plain": [
              "<matplotlib.image.AxesImage at 0x7f29d318d208>"
            ]
          },
          "metadata": {
            "tags": []
          },
          "execution_count": 2
        },
        {
          "output_type": "display_data",
          "data": {
            "image/png": "[encoded data removed]",
            "text/plain": [
              "<Figure size 432x288 with 1 Axes>"
            ]
          },
          "metadata": {
            "tags": []
          }
        }
      ]
    },
    {
      "cell_type": "code",
      "metadata": {
        "id": "aGHYxQHUwqWV",
        "colab_type": "code",
        "colab": {}
      },
      "source": [
        "learning_rate=0.001\n",
        "inputs_=tf.placeholder(tf.float32,(None,28,28,1),name='inputs')\n",
        "targets_=tf.placeholder(tf.float32,(None,28,28,1),name='targets')\n",
        "\n",
        "conv1=tf.layers.conv2d(inputs_,32,(3,3),padding='same',activation=tf.nn.relu)\n",
        "maxpool1=tf.layers.max_pooling2d(conv1,(2,2),(2,2),padding='same')\n",
        "\n",
        "conv2=tf.layers.conv2d(maxpool1,32,(3,3),padding='same',activation=tf.nn.relu)\n",
        "maxpool2=tf.layers.max_pooling2d(conv2,(2,2),(2,2),padding='same')\n",
        "\n",
        "conv3=tf.layers.conv2d(maxpool2,16,(3,3),padding='same',activation=tf.nn.relu)\n",
        "maxpool3=tf.layers.max_pooling2d(conv3,(2,2),(2,2),padding='same')\n",
        "\n",
        "upsample1=tf.image.resize_nearest_neighbor(maxpool3,(7,7))\n",
        "conv4=tf.layers.conv2d(upsample1,16,(3,3),padding='same',activation=tf.nn.relu)\n",
        "\n",
        "upsample2=tf.image.resize_nearest_neighbor(conv4,(14,14))\n",
        "conv5=tf.layers.conv2d(upsample2,32,(3,3),padding='same',activation=tf.nn.relu)\n",
        "\n",
        "upsample3=tf.image.resize_nearest_neighbor(conv5,(28,28))\n",
        "conv6=tf.layers.conv2d(upsample3,32,(3,3),padding='same',activation=tf.nn.relu)\n",
        "\n",
        "logits=tf.layers.conv2d(conv6,1,(3,3),padding='same',activation=None)\n",
        "out=tf.nn.sigmoid(logits,name='output')\n",
        "\n",
        "loss=tf.nn.sigmoid_cross_entropy_with_logits(labels=targets_,logits=logits)\n",
        "cost=tf.reduce_mean(loss)\n",
        "opt=tf.train.AdamOptimizer(0.001).minimize(cost)"
      ],
      "execution_count": 0,
      "outputs": []
    },
    {
      "cell_type": "code",
      "metadata": {
        "id": "Dn6y5mcm1fWM",
        "colab_type": "code",
        "outputId": "246fe00c-0713-4184-c9ff-60115688db82",
        "colab": {
          "base_uri": "https://localhost:8080/",
          "height": 351
        }
      },
      "source": [
        "sess=tf.Session()\n",
        "epochs=20\n",
        "batch_size=512\n",
        "noise_factor=0.5\n",
        "sess.run(tf.global_variables_initializer())\n",
        "for e in range(epochs):\n",
        "  for ii in range(mnist.train.num_examples // batch_size):\n",
        "    batch=mnist.train.next_batch(batch_size)\n",
        "    imgs=batch[0].reshape((-1,28,28,1))\n",
        "    \n",
        "    noisy_imgs = imgs + noise_factor*np.random.randn(*imgs.shape)\n",
        "    noisy_imgs = np.clip(noisy_imgs,0.,1.)\n",
        "    \n",
        "    batch_cost, _ = sess.run([cost, opt], feed_dict={inputs_: noisy_imgs, targets_: imgs})\n",
        "  print(\"Epoch: {}/{}...\".format(e+1, epochs),\n",
        "        \"Training loss: {:.4f}\".format(batch_cost))"
      ],
      "execution_count": 0,
      "outputs": [
        {
          "output_type": "stream",
          "text": [
            "Epoch: 1/20... Training loss: 0.2047\n",
            "Epoch: 2/20... Training loss: 0.1744\n",
            "Epoch: 3/20... Training loss: 0.1606\n",
            "Epoch: 4/20... Training loss: 0.1452\n",
            "Epoch: 5/20... Training loss: 0.1411\n",
            "Epoch: 6/20... Training loss: 0.1342\n",
            "Epoch: 7/20... Training loss: 0.1300\n",
            "Epoch: 8/20... Training loss: 0.1277\n",
            "Epoch: 9/20... Training loss: 0.1257\n",
            "Epoch: 10/20... Training loss: 0.1245\n",
            "Epoch: 11/20... Training loss: 0.1230\n",
            "Epoch: 12/20... Training loss: 0.1201\n",
            "Epoch: 13/20... Training loss: 0.1195\n",
            "Epoch: 14/20... Training loss: 0.1198\n",
            "Epoch: 15/20... Training loss: 0.1192\n",
            "Epoch: 16/20... Training loss: 0.1157\n",
            "Epoch: 17/20... Training loss: 0.1175\n",
            "Epoch: 18/20... Training loss: 0.1172\n",
            "Epoch: 19/20... Training loss: 0.1142\n",
            "Epoch: 20/20... Training loss: 0.1152\n"
          ],
          "name": "stdout"
        }
      ]
    },
    {
      "cell_type": "code",
      "metadata": {
        "id": "MUG-BWvX48kM",
        "colab_type": "code",
        "outputId": "277a8435-f10e-4efe-be61-e00c7d6e9abf",
        "colab": {
          "base_uri": "https://localhost:8080/",
          "height": 174
        }
      },
      "source": [
        "fig, axes = plt.subplots(nrows=2, ncols=10, sharex=True, sharey=True, figsize=(10,2))\n",
        "in_imgs = mnist.test.images[:10]\n",
        "noisy_imgs = in_imgs + noise_factor * np.random.randn(*in_imgs.shape)\n",
        "noisy_imgs = np.clip(noisy_imgs, 0., 1.)\n",
        "\n",
        "reconstructed = sess.run(out, feed_dict={inputs_: noisy_imgs.reshape((10, 28, 28, 1))})\n",
        "\n",
        "for images, row in zip([noisy_imgs, reconstructed], axes):\n",
        "    for img, ax in zip(images, row):\n",
        "        ax.imshow(img.reshape((28, 28)), cmap='gray')\n",
        "        ax.get_xaxis().set_visible(True)\n",
        "        ax.get_yaxis().set_visible(True)\n",
        "\n",
        "fig.tight_layout(pad=0.1)"
      ],
      "execution_count": 0,
      "outputs": [
        {
          "output_type": "display_data",
          "data": {
            "image/png": "[encoded data removed]",
            "text/plain": [
              "<Figure size 720x144 with 20 Axes>"
            ]
          },
          "metadata": {
            "tags": []
          }
        }
      ]
    }
  ]
}