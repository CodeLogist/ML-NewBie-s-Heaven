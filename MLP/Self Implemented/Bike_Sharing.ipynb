{
  "nbformat": 4,
  "nbformat_minor": 0,
  "metadata": {
    "colab": {
      "name": "Bike_Sharing.ipynb",
      "provenance": [],
      "collapsed_sections": []
    },
    "kernelspec": {
      "name": "python3",
      "display_name": "Python 3"
    },
    "accelerator": "GPU"
  },
  "cells": [
    {
      "cell_type": "code",
      "metadata": {
        "id": "8AGG3IdHb2tA",
        "colab_type": "code",
        "colab": {}
      },
      "source": [
        "import numpy as np\n",
        "import pandas as pd\n",
        "import matplotlib.pyplot as plt"
      ],
      "execution_count": 0,
      "outputs": []
    },
    {
      "cell_type": "code",
      "metadata": {
        "id": "hUDMM6R9daQ8",
        "colab_type": "code",
        "outputId": "9c77139b-aa3f-4819-d5f4-fbbf040ad462",
        "colab": {
          "base_uri": "https://localhost:8080/",
          "height": 511
        }
      },
      "source": [
        "hour_data=pd.read_csv('hour.csv')\n",
        "hour_data[:10]"
      ],
      "execution_count": 0,
      "outputs": [
        {
          "output_type": "execute_result",
          "data": {
            "text/html": [
              "<div>\n",
              "<style scoped>\n",
              "    .dataframe tbody tr th:only-of-type {\n",
              "        vertical-align: middle;\n",
              "    }\n",
              "\n",
              "    .dataframe tbody tr th {\n",
              "        vertical-align: top;\n",
              "    }\n",
              "\n",
              "    .dataframe thead th {\n",
              "        text-align: right;\n",
              "    }\n",
              "</style>\n",
              "<table border=\"1\" class=\"dataframe\">\n",
              "  <thead>\n",
              "    <tr style=\"text-align: right;\">\n",
              "      <th></th>\n",
              "      <th>instant</th>\n",
              "      <th>dteday</th>\n",
              "      <th>season</th>\n",
              "      <th>yr</th>\n",
              "      <th>mnth</th>\n",
              "      <th>hr</th>\n",
              "      <th>holiday</th>\n",
              "      <th>weekday</th>\n",
              "      <th>workingday</th>\n",
              "      <th>weathersit</th>\n",
              "      <th>temp</th>\n",
              "      <th>atemp</th>\n",
              "      <th>hum</th>\n",
              "      <th>windspeed</th>\n",
              "      <th>casual</th>\n",
              "      <th>registered</th>\n",
              "      <th>cnt</th>\n",
              "    </tr>\n",
              "  </thead>\n",
              "  <tbody>\n",
              "    <tr>\n",
              "      <th>0</th>\n",
              "      <td>1</td>\n",
              "      <td>2011-01-01</td>\n",
              "      <td>1</td>\n",
              "      <td>0</td>\n",
              "      <td>1</td>\n",
              "      <td>0</td>\n",
              "      <td>0</td>\n",
              "      <td>6</td>\n",
              "      <td>0</td>\n",
              "      <td>1</td>\n",
              "      <td>0.24</td>\n",
              "      <td>0.2879</td>\n",
              "      <td>0.81</td>\n",
              "      <td>0.0000</td>\n",
              "      <td>3</td>\n",
              "      <td>13</td>\n",
              "      <td>16</td>\n",
              "    </tr>\n",
              "    <tr>\n",
              "      <th>1</th>\n",
              "      <td>2</td>\n",
              "      <td>2011-01-01</td>\n",
              "      <td>1</td>\n",
              "      <td>0</td>\n",
              "      <td>1</td>\n",
              "      <td>1</td>\n",
              "      <td>0</td>\n",
              "      <td>6</td>\n",
              "      <td>0</td>\n",
              "      <td>1</td>\n",
              "      <td>0.22</td>\n",
              "      <td>0.2727</td>\n",
              "      <td>0.80</td>\n",
              "      <td>0.0000</td>\n",
              "      <td>8</td>\n",
              "      <td>32</td>\n",
              "      <td>40</td>\n",
              "    </tr>\n",
              "    <tr>\n",
              "      <th>2</th>\n",
              "      <td>3</td>\n",
              "      <td>2011-01-01</td>\n",
              "      <td>1</td>\n",
              "      <td>0</td>\n",
              "      <td>1</td>\n",
              "      <td>2</td>\n",
              "      <td>0</td>\n",
              "      <td>6</td>\n",
              "      <td>0</td>\n",
              "      <td>1</td>\n",
              "      <td>0.22</td>\n",
              "      <td>0.2727</td>\n",
              "      <td>0.80</td>\n",
              "      <td>0.0000</td>\n",
              "      <td>5</td>\n",
              "      <td>27</td>\n",
              "      <td>32</td>\n",
              "    </tr>\n",
              "    <tr>\n",
              "      <th>3</th>\n",
              "      <td>4</td>\n",
              "      <td>2011-01-01</td>\n",
              "      <td>1</td>\n",
              "      <td>0</td>\n",
              "      <td>1</td>\n",
              "      <td>3</td>\n",
              "      <td>0</td>\n",
              "      <td>6</td>\n",
              "      <td>0</td>\n",
              "      <td>1</td>\n",
              "      <td>0.24</td>\n",
              "      <td>0.2879</td>\n",
              "      <td>0.75</td>\n",
              "      <td>0.0000</td>\n",
              "      <td>3</td>\n",
              "      <td>10</td>\n",
              "      <td>13</td>\n",
              "    </tr>\n",
              "    <tr>\n",
              "      <th>4</th>\n",
              "      <td>5</td>\n",
              "      <td>2011-01-01</td>\n",
              "      <td>1</td>\n",
              "      <td>0</td>\n",
              "      <td>1</td>\n",
              "      <td>4</td>\n",
              "      <td>0</td>\n",
              "      <td>6</td>\n",
              "      <td>0</td>\n",
              "      <td>1</td>\n",
              "      <td>0.24</td>\n",
              "      <td>0.2879</td>\n",
              "      <td>0.75</td>\n",
              "      <td>0.0000</td>\n",
              "      <td>0</td>\n",
              "      <td>1</td>\n",
              "      <td>1</td>\n",
              "    </tr>\n",
              "    <tr>\n",
              "      <th>5</th>\n",
              "      <td>6</td>\n",
              "      <td>2011-01-01</td>\n",
              "      <td>1</td>\n",
              "      <td>0</td>\n",
              "      <td>1</td>\n",
              "      <td>5</td>\n",
              "      <td>0</td>\n",
              "      <td>6</td>\n",
              "      <td>0</td>\n",
              "      <td>2</td>\n",
              "      <td>0.24</td>\n",
              "      <td>0.2576</td>\n",
              "      <td>0.75</td>\n",
              "      <td>0.0896</td>\n",
              "      <td>0</td>\n",
              "      <td>1</td>\n",
              "      <td>1</td>\n",
              "    </tr>\n",
              "    <tr>\n",
              "      <th>6</th>\n",
              "      <td>7</td>\n",
              "      <td>2011-01-01</td>\n",
              "      <td>1</td>\n",
              "      <td>0</td>\n",
              "      <td>1</td>\n",
              "      <td>6</td>\n",
              "      <td>0</td>\n",
              "      <td>6</td>\n",
              "      <td>0</td>\n",
              "      <td>1</td>\n",
              "      <td>0.22</td>\n",
              "      <td>0.2727</td>\n",
              "      <td>0.80</td>\n",
              "      <td>0.0000</td>\n",
              "      <td>2</td>\n",
              "      <td>0</td>\n",
              "      <td>2</td>\n",
              "    </tr>\n",
              "    <tr>\n",
              "      <th>7</th>\n",
              "      <td>8</td>\n",
              "      <td>2011-01-01</td>\n",
              "      <td>1</td>\n",
              "      <td>0</td>\n",
              "      <td>1</td>\n",
              "      <td>7</td>\n",
              "      <td>0</td>\n",
              "      <td>6</td>\n",
              "      <td>0</td>\n",
              "      <td>1</td>\n",
              "      <td>0.20</td>\n",
              "      <td>0.2576</td>\n",
              "      <td>0.86</td>\n",
              "      <td>0.0000</td>\n",
              "      <td>1</td>\n",
              "      <td>2</td>\n",
              "      <td>3</td>\n",
              "    </tr>\n",
              "    <tr>\n",
              "      <th>8</th>\n",
              "      <td>9</td>\n",
              "      <td>2011-01-01</td>\n",
              "      <td>1</td>\n",
              "      <td>0</td>\n",
              "      <td>1</td>\n",
              "      <td>8</td>\n",
              "      <td>0</td>\n",
              "      <td>6</td>\n",
              "      <td>0</td>\n",
              "      <td>1</td>\n",
              "      <td>0.24</td>\n",
              "      <td>0.2879</td>\n",
              "      <td>0.75</td>\n",
              "      <td>0.0000</td>\n",
              "      <td>1</td>\n",
              "      <td>7</td>\n",
              "      <td>8</td>\n",
              "    </tr>\n",
              "    <tr>\n",
              "      <th>9</th>\n",
              "      <td>10</td>\n",
              "      <td>2011-01-01</td>\n",
              "      <td>1</td>\n",
              "      <td>0</td>\n",
              "      <td>1</td>\n",
              "      <td>9</td>\n",
              "      <td>0</td>\n",
              "      <td>6</td>\n",
              "      <td>0</td>\n",
              "      <td>1</td>\n",
              "      <td>0.32</td>\n",
              "      <td>0.3485</td>\n",
              "      <td>0.76</td>\n",
              "      <td>0.0000</td>\n",
              "      <td>8</td>\n",
              "      <td>6</td>\n",
              "      <td>14</td>\n",
              "    </tr>\n",
              "  </tbody>\n",
              "</table>\n",
              "</div>"
            ],
            "text/plain": [
              "   instant      dteday  season  yr  ...  windspeed  casual  registered  cnt\n",
              "0        1  2011-01-01       1   0  ...     0.0000       3          13   16\n",
              "1        2  2011-01-01       1   0  ...     0.0000       8          32   40\n",
              "2        3  2011-01-01       1   0  ...     0.0000       5          27   32\n",
              "3        4  2011-01-01       1   0  ...     0.0000       3          10   13\n",
              "4        5  2011-01-01       1   0  ...     0.0000       0           1    1\n",
              "5        6  2011-01-01       1   0  ...     0.0896       0           1    1\n",
              "6        7  2011-01-01       1   0  ...     0.0000       2           0    2\n",
              "7        8  2011-01-01       1   0  ...     0.0000       1           2    3\n",
              "8        9  2011-01-01       1   0  ...     0.0000       1           7    8\n",
              "9       10  2011-01-01       1   0  ...     0.0000       8           6   14\n",
              "\n",
              "[10 rows x 17 columns]"
            ]
          },
          "metadata": {
            "tags": []
          },
          "execution_count": 263
        }
      ]
    },
    {
      "cell_type": "code",
      "metadata": {
        "id": "aTCjYhCJf4oj",
        "colab_type": "code",
        "outputId": "11ab8235-eb08-4ae5-ae32-095f08cd9509",
        "colab": {
          "base_uri": "https://localhost:8080/",
          "height": 300
        }
      },
      "source": [
        "hour_data[:240].plot(x='dteday',y='cnt')"
      ],
      "execution_count": 0,
      "outputs": [
        {
          "output_type": "execute_result",
          "data": {
            "text/plain": [
              "<matplotlib.axes._subplots.AxesSubplot at 0x7f90cd7fe6a0>"
            ]
          },
          "metadata": {
            "tags": []
          },
          "execution_count": 264
        },
        {
          "output_type": "display_data",
          "data": {
            "image/png": "[encoded data removed]",
            "text/plain": [
              "<Figure size 432x288 with 1 Axes>"
            ]
          },
          "metadata": {
            "tags": []
          }
        }
      ]
    },
    {
      "cell_type": "code",
      "metadata": {
        "id": "-m0UE4YggQTC",
        "colab_type": "code",
        "colab": {}
      },
      "source": [
        "for_dummies=['season','mnth','hr','weekday','weathersit']\n",
        "for i in for_dummies:\n",
        "  dummy=pd.get_dummies(hour_data[i],prefix=i,drop_first=False)\n",
        "  hour_data=pd.concat([hour_data,dummy],axis=1)\n",
        "  \n",
        "drop_fields=['season','mnth','hr','weekday','weathersit','instant','dteday','atemp']\n",
        "data=hour_data.drop(drop_fields,axis=1)"
      ],
      "execution_count": 0,
      "outputs": []
    },
    {
      "cell_type": "code",
      "metadata": {
        "id": "IfUlOO2Kifqr",
        "colab_type": "code",
        "colab": {}
      },
      "source": [
        "quant_features=['casual','registered','cnt','temp','hum','windspeed']\n",
        "scaled_features={}\n",
        "for i in quant_features:\n",
        "  mean,std=data[i].mean(),data[i].std()\n",
        "  scaled_features[i]=[mean,std]\n",
        "  data.loc[:,i]=(data[i]-mean)/std"
      ],
      "execution_count": 0,
      "outputs": []
    },
    {
      "cell_type": "code",
      "metadata": {
        "id": "5_vtsiTgrhn6",
        "colab_type": "code",
        "colab": {}
      },
      "source": [
        "test_data=data[-21*24:]\n",
        "data=data[:-21*24]"
      ],
      "execution_count": 0,
      "outputs": []
    },
    {
      "cell_type": "code",
      "metadata": {
        "id": "vAm2xqiBtAWX",
        "colab_type": "code",
        "colab": {}
      },
      "source": [
        "target_fields=['cnt','casual','registered']\n",
        "features,targets=data.drop(target_fields,axis=1),data[target_fields]\n",
        "test_features,test_targets=test_data.drop(target_fields,axis=1), test_data[target_fields]"
      ],
      "execution_count": 0,
      "outputs": []
    },
    {
      "cell_type": "code",
      "metadata": {
        "id": "FtS6HuHb96LJ",
        "colab_type": "code",
        "colab": {}
      },
      "source": [
        "train_features=features[:-60*24]\n",
        "train_targets=targets[:-60*24]\n",
        "val_features, val_targets=features[-60*24:], targets[-60*24:]"
      ],
      "execution_count": 0,
      "outputs": []
    },
    {
      "cell_type": "code",
      "metadata": {
        "id": "rqihJUGu-2Qv",
        "colab_type": "code",
        "colab": {}
      },
      "source": [
        "class NeuralNetwork(object):\n",
        "  def __init__(self,input_nodes,hidden_nodes,output_nodes,learning_rate):\n",
        "    self.input_nodes=input_nodes\n",
        "    self.hidden_nodes=hidden_nodes\n",
        "    self.output_nodes=output_nodes\n",
        "    \n",
        "    self.weights_input_to_hidden= np.random.normal(0.0,self.input_nodes**-0.5,(self.input_nodes,self.hidden_nodes))\n",
        "    self.weights_hidden_to_output= np.random.normal(0.0,self.hidden_nodes**-0.5,(self.hidden_nodes,self.output_nodes))\n",
        "    self.lr=learning_rate\n",
        "    \n",
        "    self.activation_function=lambda x : 1/(1+np.exp(-x))\n",
        "  \n",
        "  def train(self,features,targets):\n",
        "    n_records=features.shape[0]\n",
        "    delta_weights_i_h=np.zeros(self.weights_input_to_hidden.shape)\n",
        "    delta_weights_h_o=np.zeros(self.weights_hidden_to_output.shape)\n",
        "    for X, y in zip(features,targets):\n",
        "      final_outputs, hidden_outputs=self.forward_pass_train(X)\n",
        "      delta_weights_i_h, delta_weights_h_o=self.backpropagation(final_outputs,hidden_outputs,X,y,delta_weights_i_h,delta_weights_h_o)\n",
        "    self.update_weights(delta_weights_i_h,delta_weights_h_o,n_records)\n",
        "  \n",
        "  def forward_pass_train(self,X):\n",
        "    hidden_inputs=np.dot(X,self.weights_input_to_hidden)\n",
        "    hidden_outputs=self.activation_function(hidden_inputs)\n",
        "    \n",
        "    final_inputs=np.dot(hidden_outputs,self.weights_hidden_to_output)\n",
        "    final_outputs=final_inputs\n",
        "    \n",
        "    return final_outputs,hidden_outputs\n",
        "  \n",
        "  def backpropagation(self,final_outputs,hidden_outputs,X,y,delta_weights_i_h,delta_weights_h_o):\n",
        "    error = y - final_outputs\n",
        "    hidden_error=np.dot(self.weights_hidden_to_output,error)\n",
        "    output_error_term=error*1.0\n",
        "    hidden_error_term=hidden_error*hidden_outputs*(1-hidden_outputs)#chain rule\n",
        "    \n",
        "    delta_weights_i_h+=hidden_error_term * X[:,None]\n",
        "    delta_weights_h_o+=output_error_term * hidden_outputs[:,None]\n",
        "    \n",
        "    return delta_weights_i_h, delta_weights_h_o\n",
        "  \n",
        "  def update_weights(self, delta_weights_i_h, delta_weights_h_o, n_records):\n",
        "    self.weights_input_to_hidden+=self.lr*delta_weights_i_h/n_records\n",
        "    self.weights_hidden_to_output+=self.lr*delta_weights_h_o/n_records\n",
        "  \n",
        "  def run(self,features):\n",
        "    hidden_inputs=np.dot(features,self.weights_input_to_hidden)\n",
        "    hidden_outputs=self.activation_function(hidden_inputs)\n",
        "    \n",
        "    final_inputs=np.dot(hidden_outputs,self.weights_hidden_to_output)\n",
        "    final_outputs=final_inputs\n",
        "    return final_outputs"
      ],
      "execution_count": 0,
      "outputs": []
    },
    {
      "cell_type": "code",
      "metadata": {
        "id": "-O7h_SoBYdyt",
        "colab_type": "code",
        "outputId": "683de21d-7973-4de5-da88-91d3ec74a74d",
        "colab": {
          "base_uri": "https://localhost:8080/",
          "height": 34
        }
      },
      "source": [
        "train_features.shape"
      ],
      "execution_count": 0,
      "outputs": [
        {
          "output_type": "execute_result",
          "data": {
            "text/plain": [
              "(15435, 57)"
            ]
          },
          "metadata": {
            "tags": []
          },
          "execution_count": 271
        }
      ]
    },
    {
      "cell_type": "code",
      "metadata": {
        "id": "6eJsGVgCQflv",
        "colab_type": "code",
        "colab": {}
      },
      "source": [
        "iterations=1000\n",
        "learning_rate=0.1\n",
        "hidden_nodes=2\n",
        "output_nodes=1"
      ],
      "execution_count": 0,
      "outputs": []
    },
    {
      "cell_type": "code",
      "metadata": {
        "id": "EUgeotduQLFJ",
        "colab_type": "code",
        "colab": {}
      },
      "source": [
        "def MSE(y,Y):\n",
        "  return np.mean((y-Y)**2)"
      ],
      "execution_count": 0,
      "outputs": []
    },
    {
      "cell_type": "code",
      "metadata": {
        "id": "piogDGGxfpJJ",
        "colab_type": "code",
        "outputId": "9c6bf4b4-f101-4a40-c6bb-0361037342a0",
        "colab": {
          "base_uri": "https://localhost:8080/",
          "height": 118
        }
      },
      "source": [
        "import unittest\n",
        "\n",
        "inputs = np.array([[0.5, -0.2, 0.1]])\n",
        "targets = np.array([[0.4]])\n",
        "test_w_i_h = np.array([[0.1, -0.2],\n",
        "                       [0.4, 0.5],\n",
        "                       [-0.3, 0.2]])\n",
        "test_w_h_o = np.array([[0.3],\n",
        "                       [-0.1]])\n",
        "\n",
        "class TestMethods(unittest.TestCase):\n",
        "    \n",
        "    ##########\n",
        "    # Unit tests for data loading\n",
        "    ##########\n",
        "    \n",
        "    def test_data_path(self):\n",
        "        # Test that file path to dataset has been unaltered\n",
        "        self.assertTrue('hour.csv'.lower() == 'hour.csv')\n",
        "        \n",
        "    def test_data_loaded(self):\n",
        "        # Test that data frame loaded\n",
        "        self.assertTrue(isinstance(data, pd.DataFrame))\n",
        "    \n",
        "    ##########\n",
        "    # Unit tests for network functionality\n",
        "    ##########\n",
        "\n",
        "    def test_activation(self):\n",
        "        network = NeuralNetwork(3, 2, 1, 0.5)\n",
        "        # Test that the activation function is a sigmoid\n",
        "        self.assertTrue(np.all(network.activation_function(0.5) == 1/(1+np.exp(-0.5))))\n",
        "\n",
        "    def test_train(self):\n",
        "        # Test that weights are updated correctly on training\n",
        "        network = NeuralNetwork(3, 2, 1, 0.5)\n",
        "        network.weights_input_to_hidden = test_w_i_h.copy()\n",
        "        network.weights_hidden_to_output = test_w_h_o.copy()\n",
        "        \n",
        "        network.train(inputs, targets)\n",
        "        self.assertTrue(np.allclose(network.weights_hidden_to_output, \n",
        "                                    np.array([[ 0.37275328], \n",
        "                                              [-0.03172939]])))\n",
        "        self.assertTrue(np.allclose(network.weights_input_to_hidden,\n",
        "                                    np.array([[ 0.10562014, -0.20185996], \n",
        "                                              [0.39775194, 0.50074398], \n",
        "                                              [-0.29887597, 0.19962801]])))\n",
        "\n",
        "    def test_run(self):\n",
        "        # Test correctness of run method\n",
        "        network = NeuralNetwork(3, 2, 1, 0.5)\n",
        "        network.weights_input_to_hidden = test_w_i_h.copy()\n",
        "        network.weights_hidden_to_output = test_w_h_o.copy()\n",
        "\n",
        "        self.assertTrue(np.allclose(network.run(inputs), 0.09998924))\n",
        "\n",
        "suite = unittest.TestLoader().loadTestsFromModule(TestMethods())\n",
        "unittest.TextTestRunner().run(suite)"
      ],
      "execution_count": 0,
      "outputs": [
        {
          "output_type": "stream",
          "text": [
            ".....\n",
            "----------------------------------------------------------------------\n",
            "Ran 5 tests in 0.013s\n",
            "\n",
            "OK\n"
          ],
          "name": "stderr"
        },
        {
          "output_type": "execute_result",
          "data": {
            "text/plain": [
              "<unittest.runner.TextTestResult run=5 errors=0 failures=0>"
            ]
          },
          "metadata": {
            "tags": []
          },
          "execution_count": 274
        }
      ]
    },
    {
      "cell_type": "code",
      "metadata": {
        "id": "rSGjePKlQTgn",
        "colab_type": "code",
        "outputId": "82dd5dae-6eac-4c90-86d4-84b363f22c1c",
        "colab": {
          "base_uri": "https://localhost:8080/",
          "height": 34
        }
      },
      "source": [
        "import sys\n",
        "N_i=train_features.shape[1]\n",
        "network=NeuralNetwork(N_i,hidden_nodes,output_nodes,learning_rate)\n",
        "\n",
        "losses={'train':[], 'validation':[]}\n",
        "for ii in range(iterations):\n",
        "  batch=np.random.choice(train_features.index,size=128)\n",
        "  X,y=train_features.iloc[batch].values, train_targets.iloc[batch]['cnt']\n",
        "  network.train(X,y)\n",
        "#   print(train_features.shape)\n",
        "#   print(X.shape)\n",
        "  train_loss = MSE(network.run(train_features).T, train_targets['cnt'].values)\n",
        "  val_loss = MSE(network.run(val_features).T, val_targets['cnt'].values)\n",
        "  sys.stdout.write(\"\\rProgress: {:2.1f}\".format(100 * ii/float(iterations)) \\\n",
        "                   + \"% ... Training loss: \" + str(train_loss)[:5] \\\n",
        "                   + \" ... Validation loss: \" + str(val_loss)[:5])\n",
        "  sys.stdout.flush()\n",
        "  \n",
        "  losses['train'].append(train_loss)\n",
        "  losses['validation'].append(val_loss)"
      ],
      "execution_count": 0,
      "outputs": [
        {
          "output_type": "stream",
          "text": [
            "Progress: 99.9% ... Training loss: 0.307 ... Validation loss: 0.489"
          ],
          "name": "stdout"
        }
      ]
    },
    {
      "cell_type": "code",
      "metadata": {
        "id": "cv8QYnHlewgo",
        "colab_type": "code",
        "outputId": "ab164f48-b6d4-4038-e749-b6c8aba46583",
        "colab": {
          "base_uri": "https://localhost:8080/",
          "height": 269
        }
      },
      "source": [
        "plt.plot(losses['train'], label='Training loss')\n",
        "plt.plot(losses['validation'], label='Validation loss')\n",
        "plt.legend()\n",
        "_ = plt.ylim()"
      ],
      "execution_count": 0,
      "outputs": [
        {
          "output_type": "display_data",
          "data": {
            "image/png": "[encoded data removed]",
            "text/plain": [
              "<Figure size 432x288 with 1 Axes>"
            ]
          },
          "metadata": {
            "tags": []
          }
        }
      ]
    },
    {
      "cell_type": "code",
      "metadata": {
        "id": "iPLYWUNoleuK",
        "colab_type": "code",
        "outputId": "c5ec8864-eb0f-4db2-843e-c6c424683f8e",
        "colab": {
          "base_uri": "https://localhost:8080/",
          "height": 281
        }
      },
      "source": [
        "fig, ax = plt.subplots(1,2, figsize=(15,4))\n",
        "ax[0].plot(losses['train'], label='Training loss')\n",
        "ax[0].plot(losses['validation'], label='Validation loss')\n",
        "ax[0].legend()\n",
        "ax[0].set_title('Loss vs Iterations (full)')\n",
        "ax[1].plot(losses['train'], label='Training loss')\n",
        "ax[1].plot(losses['validation'], label='Validation loss')\n",
        "ax[1].legend()\n",
        "ax[1].set_ylim([0,2])\n",
        "ax[1].set_xlim([0,400])\n",
        "ax[1].set_title('Loss vs Iterations (zoom)')\n",
        "plt.show()\n"
      ],
      "execution_count": 0,
      "outputs": [
        {
          "output_type": "display_data",
          "data": {
            "image/png": "[encoded data removed]",
            "text/plain": [
              "<Figure size 1080x288 with 2 Axes>"
            ]
          },
          "metadata": {
            "tags": []
          }
        }
      ]
    }
  ]
}
