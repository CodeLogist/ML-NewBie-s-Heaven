{
  "nbformat": 4,
  "nbformat_minor": 0,
  "metadata": {
    "colab": {
      "name": "Q-Learning(Frozen-Lake).ipynb",
      "provenance": [],
      "collapsed_sections": []
    },
    "kernelspec": {
      "name": "python3",
      "display_name": "Python 3"
    }
  },
  "cells": [
    {
      "cell_type": "code",
      "metadata": {
        "id": "xPpuHsz24SMU",
        "colab_type": "code",
        "colab": {}
      },
      "source": [
        "import numpy as np\n",
        "import gym\n",
        "import random\n",
        "import time\n",
        "from IPython.display import clear_output"
      ],
      "execution_count": 0,
      "outputs": []
    },
    {
      "cell_type": "code",
      "metadata": {
        "id": "bqu2Rfzi4mYU",
        "colab_type": "code",
        "colab": {}
      },
      "source": [
        "env=gym.make(\"FrozenLake-v0\")"
      ],
      "execution_count": 0,
      "outputs": []
    },
    {
      "cell_type": "code",
      "metadata": {
        "id": "JDoY2pAj4rJl",
        "colab_type": "code",
        "outputId": "2e0f3f23-12e0-43aa-d497-f6e84d3d7382",
        "colab": {
          "base_uri": "https://localhost:8080/",
          "height": 286
        }
      },
      "source": [
        "action_space_size=env.action_space.n\n",
        "state_space_size=env.observation_space.n\n",
        "\n",
        "q_table=np.zeros((state_space_size,action_space_size))\n",
        "print(q_table)"
      ],
      "execution_count": 0,
      "outputs": [
        {
          "output_type": "stream",
          "text": [
            "[[0. 0. 0. 0.]\n",
            " [0. 0. 0. 0.]\n",
            " [0. 0. 0. 0.]\n",
            " [0. 0. 0. 0.]\n",
            " [0. 0. 0. 0.]\n",
            " [0. 0. 0. 0.]\n",
            " [0. 0. 0. 0.]\n",
            " [0. 0. 0. 0.]\n",
            " [0. 0. 0. 0.]\n",
            " [0. 0. 0. 0.]\n",
            " [0. 0. 0. 0.]\n",
            " [0. 0. 0. 0.]\n",
            " [0. 0. 0. 0.]\n",
            " [0. 0. 0. 0.]\n",
            " [0. 0. 0. 0.]\n",
            " [0. 0. 0. 0.]]\n"
          ],
          "name": "stdout"
        }
      ]
    },
    {
      "cell_type": "code",
      "metadata": {
        "id": "OlT9Yej45Jqi",
        "colab_type": "code",
        "colab": {}
      },
      "source": [
        "num_episodes=10000\n",
        "max_steps_per_episode=100\n",
        "\n",
        "learning_rate=0.1\n",
        "discount_rate=0.99\n",
        "\n",
        "exploration_rate=1\n",
        "max_exploration_rate=1\n",
        "min_exploration_rate=0.01\n",
        "exploration_decay_rate=0.001"
      ],
      "execution_count": 0,
      "outputs": []
    },
    {
      "cell_type": "code",
      "metadata": {
        "id": "BRfuTEXDHB76",
        "colab_type": "code",
        "outputId": "cee937eb-5afb-47a2-ac44-a46ba91cd5b4",
        "colab": {
          "base_uri": "https://localhost:8080/",
          "height": 554
        }
      },
      "source": [
        "rewards_all_episodes=[]\n",
        "\n",
        "for episode in range(num_episodes):\n",
        "  state=env.reset()\n",
        "  done=False\n",
        "  rewards_current_episode=0\n",
        "\n",
        "  for step in range(max_steps_per_episode):\n",
        "\n",
        "    exploration_rate_threshold=random.uniform(0,1)\n",
        "    if exploration_rate_threshold > exploration_rate:\n",
        "      action=np.argmax(q_table[state,:])\n",
        "    else:\n",
        "      action=env.action_space.sample()\n",
        "    \n",
        "    new_state,reward,done,info=env.step(action)\n",
        "    q_table[state,action]=q_table[state,action]*(1-learning_rate) + learning_rate*(reward + discount_rate*np.max(q_table[new_state,:]))\n",
        "\n",
        "    state=new_state\n",
        "    rewards_current_episode+=reward\n",
        "\n",
        "    if done==True:\n",
        "      break\n",
        "\n",
        "  exploration_rate=min_exploration_rate + (max_exploration_rate-min_exploration_rate)*np.exp(-exploration_decay_rate*episode)\n",
        "\n",
        "  rewards_all_episodes.append(rewards_current_episode)\n",
        "\n",
        "rewards_per_thousand_episodes=np.split(np.array(rewards_all_episodes),num_episodes/1000)\n",
        "count=1000\n",
        "print(\"******Average reward per thousand episodes*******\\n\")\n",
        "for r in rewards_per_thousand_episodes:\n",
        "  print(count,\": \",str(sum(r/1000)))\n",
        "  count+=1000\n",
        "print(\"\\n\\n******Q-table**********\\n\")\n",
        "print(q_table)"
      ],
      "execution_count": 0,
      "outputs": [
        {
          "output_type": "stream",
          "text": [
            "******Average reward per thousand episodes*******\n",
            "\n",
            "1000 :  0.05400000000000004\n",
            "2000 :  0.20100000000000015\n",
            "3000 :  0.3860000000000003\n",
            "4000 :  0.5340000000000004\n",
            "5000 :  0.6440000000000005\n",
            "6000 :  0.6410000000000005\n",
            "7000 :  0.6920000000000005\n",
            "8000 :  0.6700000000000005\n",
            "9000 :  0.6690000000000005\n",
            "10000 :  0.6900000000000005\n",
            "\n",
            "\n",
            "******Q-table**********\n",
            "\n",
            "[[0.5513037  0.51921824 0.51700138 0.51564693]\n",
            " [0.37660235 0.38193238 0.23935726 0.50960993]\n",
            " [0.44123831 0.39802132 0.394967   0.48157422]\n",
            " [0.2992153  0.26687591 0.30114211 0.46149409]\n",
            " [0.58006644 0.35799475 0.35238846 0.33218835]\n",
            " [0.         0.         0.         0.        ]\n",
            " [0.46548735 0.04372697 0.2023895  0.20158196]\n",
            " [0.         0.         0.         0.        ]\n",
            " [0.42540742 0.51624054 0.40378378 0.6043243 ]\n",
            " [0.48327332 0.68947249 0.38773969 0.37363911]\n",
            " [0.67178714 0.40382734 0.36874006 0.34397949]\n",
            " [0.         0.         0.         0.        ]\n",
            " [0.         0.         0.         0.        ]\n",
            " [0.40847067 0.60176246 0.78610659 0.58704127]\n",
            " [0.73298363 0.88797292 0.74985679 0.73856618]\n",
            " [0.         0.         0.         0.        ]]\n"
          ],
          "name": "stdout"
        }
      ]
    },
    {
      "cell_type": "code",
      "metadata": {
        "id": "U8tDZ0fJRO5y",
        "colab_type": "code",
        "colab": {}
      },
      "source": [
        ""
      ],
      "execution_count": 0,
      "outputs": []
    }
  ]
}