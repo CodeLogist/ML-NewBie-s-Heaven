{
  "nbformat": 4,
  "nbformat_minor": 0,
  "metadata": {
    "colab": {
      "name": "Dynamic-Programming(RL).ipynb",
      "provenance": [],
      "collapsed_sections": []
    },
    "kernelspec": {
      "name": "python3",
      "display_name": "Python 3"
    },
    "accelerator": "GPU"
  },
  "cells": [
    {
      "cell_type": "markdown",
      "metadata": {
        "id": "Xc_cDYbNPRmz",
        "colab_type": "text"
      },
      "source": [
        "##Explore FrozenLakeEnv"
      ]
    },
    {
      "cell_type": "code",
      "metadata": {
        "id": "ISRNdzOiPRHj",
        "colab_type": "code",
        "colab": {}
      },
      "source": [
        "import numpy as np\n",
        "import copy\n",
        "import check_test\n",
        "from frozenlake import FrozenLakeEnv\n",
        "from plot_utils import plot_values"
      ],
      "execution_count": 0,
      "outputs": []
    },
    {
      "cell_type": "code",
      "metadata": {
        "id": "3DI-2lRtPBzD",
        "colab_type": "code",
        "colab": {}
      },
      "source": [
        "env=FrozenLakeEnv()"
      ],
      "execution_count": 0,
      "outputs": []
    },
    {
      "cell_type": "code",
      "metadata": {
        "id": "5RnjNFgRTFMb",
        "colab_type": "code",
        "outputId": "643e7e7b-cb84-44c8-8c2d-3169f9801e20",
        "colab": {
          "base_uri": "https://localhost:8080/",
          "height": 84
        }
      },
      "source": [
        "print(env.observation_space)\n",
        "print(env.action_space)\n",
        "\n",
        "print(env.nS)\n",
        "print(env.nA)"
      ],
      "execution_count": 0,
      "outputs": [
        {
          "output_type": "stream",
          "text": [
            "Discrete(16)\n",
            "Discrete(4)\n",
            "16\n",
            "4\n"
          ],
          "name": "stdout"
        }
      ]
    },
    {
      "cell_type": "code",
      "metadata": {
        "id": "tEFu3GRbTXvj",
        "colab_type": "code",
        "outputId": "5c4dc5aa-d959-4016-b931-25c93d43a8d7",
        "colab": {
          "base_uri": "https://localhost:8080/",
          "height": 67
        }
      },
      "source": [
        "env.P[1][3]"
      ],
      "execution_count": 0,
      "outputs": [
        {
          "output_type": "execute_result",
          "data": {
            "text/plain": [
              "[(0.3333333333333333, 2, 0.0, False),\n",
              " (0.3333333333333333, 1, 0.0, False),\n",
              " (0.3333333333333333, 0, 0.0, False)]"
            ]
          },
          "metadata": {
            "tags": []
          },
          "execution_count": 6
        }
      ]
    },
    {
      "cell_type": "markdown",
      "metadata": {
        "id": "RHWPBX9MUE68",
        "colab_type": "text"
      },
      "source": [
        "##Iterative Policy"
      ]
    },
    {
      "cell_type": "code",
      "metadata": {
        "id": "EEjShwKkUEUk",
        "colab_type": "code",
        "colab": {}
      },
      "source": [
        "def policy_evaluation(env,policy,gamma=1,theta=1e-8):\n",
        "  V=np.zeros(env.nS)\n",
        "  while True:\n",
        "    delta=0\n",
        "    for s in range(env.nS):\n",
        "      Vs=0\n",
        "      for a, action_prob in enumerate(policy[s]):\n",
        "        for prob,next_state,reward,done in env.P[s][a]:\n",
        "          Vs+=action_prob*prob*(reward+gamma*V[next_state])\n",
        "      delta=max(delta,np.abs(V[s]-Vs))\n",
        "      V[s]=Vs\n",
        "    if delta<theta:\n",
        "      break  \n",
        "  return V"
      ],
      "execution_count": 0,
      "outputs": []
    },
    {
      "cell_type": "code",
      "metadata": {
        "id": "I_b67O8m58j-",
        "colab_type": "code",
        "colab": {}
      },
      "source": [
        "random_policy=np.ones([env.nS,env.nA])/env.nA"
      ],
      "execution_count": 0,
      "outputs": []
    },
    {
      "cell_type": "code",
      "metadata": {
        "id": "wRYM0C4v6KCI",
        "colab_type": "code",
        "outputId": "08db64cb-23f0-463d-c85a-26e7db2903b3",
        "colab": {
          "base_uri": "https://localhost:8080/",
          "height": 377
        }
      },
      "source": [
        "V=policy_evaluation(env,random_policy)\n",
        "plot_values(V)"
      ],
      "execution_count": 0,
      "outputs": [
        {
          "output_type": "display_data",
          "data": {
            "image/png": "[encoded data removed]",
            "text/plain": [
              "<Figure size 432x432 with 1 Axes>"
            ]
          },
          "metadata": {
            "tags": []
          }
        }
      ]
    },
    {
      "cell_type": "code",
      "metadata": {
        "id": "GKhe0nOy8BBR",
        "colab_type": "code",
        "outputId": "be5c4231-b782-4006-e627-06c1988faf80",
        "colab": {
          "base_uri": "https://localhost:8080/",
          "height": 50
        }
      },
      "source": [
        "print(check_test.run_check('policy_evaluation_check', policy_evaluation))"
      ],
      "execution_count": 0,
      "outputs": [
        {
          "output_type": "display_data",
          "data": {
            "text/markdown": "**<span style=\"color: green;\">PASSED</span>**",
            "text/plain": [
              "<IPython.core.display.Markdown object>"
            ]
          },
          "metadata": {
            "tags": []
          }
        },
        {
          "output_type": "stream",
          "text": [
            "None\n"
          ],
          "name": "stdout"
        }
      ]
    },
    {
      "cell_type": "markdown",
      "metadata": {
        "id": "hiMQCvAKCkLq",
        "colab_type": "text"
      },
      "source": [
        "##Obtain q(pi) from v(pi)"
      ]
    },
    {
      "cell_type": "code",
      "metadata": {
        "id": "1JiHTpleCtwG",
        "colab_type": "code",
        "colab": {}
      },
      "source": [
        "def q_from_v(env,V,s,gamma=1):\n",
        "  q=np.zeros(env.nA)\n",
        "  for a in range(env.nA):\n",
        "    for prob,next_state,reward,done in env.P[s][a]:\n",
        "      q[a]+=prob*(reward+gamma*V[next_state])\n",
        "  return q"
      ],
      "execution_count": 0,
      "outputs": []
    },
    {
      "cell_type": "code",
      "metadata": {
        "id": "j64tntLNOXqY",
        "colab_type": "code",
        "outputId": "93973dca-583f-4432-86a2-d6b398e63349",
        "colab": {
          "base_uri": "https://localhost:8080/",
          "height": 302
        }
      },
      "source": [
        "Q=np.zeros([env.nS,env.nA])\n",
        "for s in range(env.nS):\n",
        "  Q[s]=q_from_v(env,V,s)\n",
        "print(\"Action-Value Function:\")\n",
        "print(Q)"
      ],
      "execution_count": 0,
      "outputs": [
        {
          "output_type": "stream",
          "text": [
            "Action-Value Function:\n",
            "[[0.0147094  0.01393978 0.01393978 0.01317015]\n",
            " [0.00852356 0.01163091 0.0108613  0.01550788]\n",
            " [0.02444514 0.02095298 0.02406033 0.01435346]\n",
            " [0.01047649 0.01047649 0.00698432 0.01396865]\n",
            " [0.02166487 0.01701828 0.01624865 0.01006281]\n",
            " [0.         0.         0.         0.        ]\n",
            " [0.05433538 0.04735105 0.05433538 0.00698432]\n",
            " [0.         0.         0.         0.        ]\n",
            " [0.01701828 0.04099204 0.03480619 0.04640826]\n",
            " [0.07020885 0.11755991 0.10595784 0.05895312]\n",
            " [0.18940421 0.17582037 0.16001424 0.04297382]\n",
            " [0.         0.         0.         0.        ]\n",
            " [0.         0.         0.         0.        ]\n",
            " [0.08799677 0.20503718 0.23442716 0.17582037]\n",
            " [0.25238823 0.53837051 0.52711478 0.43929118]\n",
            " [0.         0.         0.         0.        ]]\n"
          ],
          "name": "stdout"
        }
      ]
    },
    {
      "cell_type": "code",
      "metadata": {
        "id": "vaHtFwibO4SS",
        "colab_type": "code",
        "outputId": "c99f352e-e3ea-42e8-961c-07cec260d3a2",
        "colab": {
          "base_uri": "https://localhost:8080/",
          "height": 50
        }
      },
      "source": [
        "print(check_test.run_check('q_from_v_check', q_from_v))"
      ],
      "execution_count": 0,
      "outputs": [
        {
          "output_type": "display_data",
          "data": {
            "text/markdown": "**<span style=\"color: green;\">PASSED</span>**",
            "text/plain": [
              "<IPython.core.display.Markdown object>"
            ]
          },
          "metadata": {
            "tags": []
          }
        },
        {
          "output_type": "stream",
          "text": [
            "None\n"
          ],
          "name": "stdout"
        }
      ]
    },
    {
      "cell_type": "code",
      "metadata": {
        "id": "PNV4KekHPZEb",
        "colab_type": "code",
        "colab": {}
      },
      "source": [
        "def policy_improvement(env, V, gamma=1):\n",
        "    policy = np.zeros([env.nS, env.nA]) / env.nA\n",
        "    for s in range(env.nS):\n",
        "        q = q_from_v(env, V, s, gamma)\n",
        "        \n",
        "        # OPTION 1: construct a deterministic policy \n",
        "        # policy[s][np.argmax(q)] = 1\n",
        "        \n",
        "        # OPTION 2: construct a stochastic policy that puts equal probability on maximizing actions\n",
        "        best_a = np.argwhere(q==np.max(q)).flatten()\n",
        "        policy[s] = np.sum([np.eye(env.nA)[i] for i in best_a], axis=0)/len(best_a)\n",
        "        \n",
        "    return policy"
      ],
      "execution_count": 0,
      "outputs": []
    },
    {
      "cell_type": "code",
      "metadata": {
        "id": "kZrTfMZzPsA2",
        "colab_type": "code",
        "outputId": "a8c3907b-5958-4454-841e-076c80d9111c",
        "colab": {
          "base_uri": "https://localhost:8080/",
          "height": 34
        }
      },
      "source": [
        "check_test.run_check('policy_improvement_check', policy_improvement)"
      ],
      "execution_count": 0,
      "outputs": [
        {
          "output_type": "display_data",
          "data": {
            "text/markdown": "**<span style=\"color: green;\">PASSED</span>**",
            "text/plain": [
              "<IPython.core.display.Markdown object>"
            ]
          },
          "metadata": {
            "tags": []
          }
        }
      ]
    },
    {
      "cell_type": "markdown",
      "metadata": {
        "id": "qk-qlvfTo1gb",
        "colab_type": "text"
      },
      "source": [
        "##Policy Iteration"
      ]
    },
    {
      "cell_type": "code",
      "metadata": {
        "id": "Uv29vRxclvVO",
        "colab_type": "code",
        "colab": {}
      },
      "source": [
        "def policy_iteration(env,gamma=1,theta=1e-8):\n",
        "  policy=np.ones([env.nS,env.nA])/env.nA\n",
        "  while True:\n",
        "    V=policy_evaluation(env,policy,gamma,theta)\n",
        "    new_policy=policy_improvement(env,V)\n",
        "    if(new_policy==policy).all():\n",
        "      break;\n",
        "\n",
        "    policy=copy.copy(new_policy)\n",
        "  return policy,V"
      ],
      "execution_count": 0,
      "outputs": []
    },
    {
      "cell_type": "code",
      "metadata": {
        "id": "Rlpv75HKnj7D",
        "colab_type": "code",
        "outputId": "6c473928-9715-420f-dc25-f38afea6bb58",
        "colab": {
          "base_uri": "https://localhost:8080/",
          "height": 696
        }
      },
      "source": [
        "policy_pi,v_pi=policy_iteration(env)\n",
        "\n",
        "print(\"\\nOptimal Policy (LEFT=0,Down=1,Right=2,Up=3):\")\n",
        "print(policy_pi,\"\\n\")\n",
        "\n",
        "plot_values(v_pi)"
      ],
      "execution_count": 0,
      "outputs": [
        {
          "output_type": "stream",
          "text": [
            "\n",
            "Optimal Policy (LEFT=0,Down=1,Right=2,Up=3):\n",
            "[[1.   0.   0.   0.  ]\n",
            " [0.   0.   0.   1.  ]\n",
            " [0.   0.   0.   1.  ]\n",
            " [0.   0.   0.   1.  ]\n",
            " [1.   0.   0.   0.  ]\n",
            " [0.25 0.25 0.25 0.25]\n",
            " [0.5  0.   0.5  0.  ]\n",
            " [0.25 0.25 0.25 0.25]\n",
            " [0.   0.   0.   1.  ]\n",
            " [0.   1.   0.   0.  ]\n",
            " [1.   0.   0.   0.  ]\n",
            " [0.25 0.25 0.25 0.25]\n",
            " [0.25 0.25 0.25 0.25]\n",
            " [0.   0.   1.   0.  ]\n",
            " [0.   1.   0.   0.  ]\n",
            " [0.25 0.25 0.25 0.25]] \n",
            "\n"
          ],
          "name": "stdout"
        },
        {
          "output_type": "display_data",
          "data": {
            "image/png": "[encoded data removed]",
            "text/plain": [
              "<Figure size 432x432 with 1 Axes>"
            ]
          },
          "metadata": {
            "tags": []
          }
        }
      ]
    },
    {
      "cell_type": "code",
      "metadata": {
        "id": "jEcuVrxgoYKU",
        "colab_type": "code",
        "outputId": "e8e330f1-fdc6-49c7-f267-fd6212a72367",
        "colab": {
          "base_uri": "https://localhost:8080/",
          "height": 34
        }
      },
      "source": [
        "check_test.run_check('policy_iteration_check', policy_iteration)"
      ],
      "execution_count": 0,
      "outputs": [
        {
          "output_type": "display_data",
          "data": {
            "text/markdown": "**<span style=\"color: green;\">PASSED</span>**",
            "text/plain": [
              "<IPython.core.display.Markdown object>"
            ]
          },
          "metadata": {
            "tags": []
          }
        }
      ]
    },
    {
      "cell_type": "markdown",
      "metadata": {
        "id": "JQ2ny4TkoyBB",
        "colab_type": "text"
      },
      "source": [
        "##Truncated Policy Iteration"
      ]
    },
    {
      "cell_type": "code",
      "metadata": {
        "id": "ydy7buhrowLA",
        "colab_type": "code",
        "colab": {}
      },
      "source": [
        "def truncated_policy_evaluation(env,policy,V,max_it=1,gamma=1):\n",
        "  num_it=0\n",
        "  while num_it<max_it:\n",
        "    for s in range(env.nS):\n",
        "      v=0\n",
        "      q=q_from_v(env,V,s,gamma)\n",
        "      for a,action_prob in enumerate(policy[s]):\n",
        "        v+=action_prob*q[a]\n",
        "      V[s]=v\n",
        "      num_it+=1\n",
        "  return V"
      ],
      "execution_count": 0,
      "outputs": []
    },
    {
      "cell_type": "code",
      "metadata": {
        "id": "vKnaMNe0pwbd",
        "colab_type": "code",
        "colab": {}
      },
      "source": [
        "def truncated_policy_iteration(env,max_it=1,gamma=1,theta=1e-8):\n",
        "  V=np.zeros(env.nS)\n",
        "  policy=np.zeros([env.nS,env.nA])/env.nA\n",
        "  while True:\n",
        "    policy=policy_improvement(env,V)\n",
        "    old_V=copy.copy(V)\n",
        "    V=truncated_policy_evaluation(env,policy,V,max_it,gamma)\n",
        "    if max(abs(V-old_V))<theta:\n",
        "      break;\n",
        "  return policy,V"
      ],
      "execution_count": 0,
      "outputs": []
    },
    {
      "cell_type": "code",
      "metadata": {
        "id": "tM4qd_mgq8KI",
        "colab_type": "code",
        "outputId": "e0d33aa6-5c8d-47f1-894c-1e176194f431",
        "colab": {
          "base_uri": "https://localhost:8080/",
          "height": 696
        }
      },
      "source": [
        "policy_tpi, V_tpi = truncated_policy_iteration(env, max_it=2)\n",
        "\n",
        "# print the optimal policy\n",
        "print(\"\\nOptimal Policy (LEFT = 0, DOWN = 1, RIGHT = 2, UP = 3):\")\n",
        "print(policy_tpi,\"\\n\")\n",
        "\n",
        "# plot the optimal state-value function\n",
        "plot_values(V_tpi)"
      ],
      "execution_count": 0,
      "outputs": [
        {
          "output_type": "stream",
          "text": [
            "\n",
            "Optimal Policy (LEFT = 0, DOWN = 1, RIGHT = 2, UP = 3):\n",
            "[[1.   0.   0.   0.  ]\n",
            " [0.   0.   0.   1.  ]\n",
            " [0.   0.   0.   1.  ]\n",
            " [0.   0.   0.   1.  ]\n",
            " [1.   0.   0.   0.  ]\n",
            " [0.25 0.25 0.25 0.25]\n",
            " [0.5  0.   0.5  0.  ]\n",
            " [0.25 0.25 0.25 0.25]\n",
            " [0.   0.   0.   1.  ]\n",
            " [0.   1.   0.   0.  ]\n",
            " [1.   0.   0.   0.  ]\n",
            " [0.25 0.25 0.25 0.25]\n",
            " [0.25 0.25 0.25 0.25]\n",
            " [0.   0.   1.   0.  ]\n",
            " [0.   1.   0.   0.  ]\n",
            " [0.25 0.25 0.25 0.25]] \n",
            "\n"
          ],
          "name": "stdout"
        },
        {
          "output_type": "display_data",
          "data": {
            "image/png": "[encoded data removed]",
            "text/plain": [
              "<Figure size 432x432 with 1 Axes>"
            ]
          },
          "metadata": {
            "tags": []
          }
        }
      ]
    },
    {
      "cell_type": "markdown",
      "metadata": {
        "id": "VdZViUbIrFJZ",
        "colab_type": "text"
      },
      "source": [
        "##Value Iteration"
      ]
    },
    {
      "cell_type": "code",
      "metadata": {
        "id": "btOLWnbZrIcE",
        "colab_type": "code",
        "colab": {}
      },
      "source": [
        "def value_iteration(env, gamma=1, theta=1e-8):\n",
        "    V = np.zeros(env.nS)\n",
        "    while True:\n",
        "        delta = 0\n",
        "        for s in range(env.nS):\n",
        "            v = V[s]\n",
        "            V[s] = max(q_from_v(env, V, s, gamma))\n",
        "            delta = max(delta,abs(V[s]-v))\n",
        "        if delta < theta:\n",
        "            break\n",
        "    policy = policy_improvement(env, V, gamma)\n",
        "    return policy, V"
      ],
      "execution_count": 0,
      "outputs": []
    },
    {
      "cell_type": "code",
      "metadata": {
        "id": "tcQrGh-QE_sf",
        "colab_type": "code",
        "outputId": "1a06d3ff-c287-44db-a292-cda842e17344",
        "colab": {
          "base_uri": "https://localhost:8080/",
          "height": 696
        }
      },
      "source": [
        "policy_vi, V_vi = value_iteration(env)\n",
        "\n",
        "# print the optimal policy\n",
        "print(\"\\nOptimal Policy (LEFT = 0, DOWN = 1, RIGHT = 2, UP = 3):\")\n",
        "print(policy_vi,\"\\n\")\n",
        "\n",
        "# plot the optimal state-value function\n",
        "plot_values(V_vi)"
      ],
      "execution_count": 0,
      "outputs": [
        {
          "output_type": "stream",
          "text": [
            "\n",
            "Optimal Policy (LEFT = 0, DOWN = 1, RIGHT = 2, UP = 3):\n",
            "[[1.   0.   0.   0.  ]\n",
            " [0.   0.   0.   1.  ]\n",
            " [0.   0.   0.   1.  ]\n",
            " [0.   0.   0.   1.  ]\n",
            " [1.   0.   0.   0.  ]\n",
            " [0.25 0.25 0.25 0.25]\n",
            " [0.5  0.   0.5  0.  ]\n",
            " [0.25 0.25 0.25 0.25]\n",
            " [0.   0.   0.   1.  ]\n",
            " [0.   1.   0.   0.  ]\n",
            " [1.   0.   0.   0.  ]\n",
            " [0.25 0.25 0.25 0.25]\n",
            " [0.25 0.25 0.25 0.25]\n",
            " [0.   0.   1.   0.  ]\n",
            " [0.   1.   0.   0.  ]\n",
            " [0.25 0.25 0.25 0.25]] \n",
            "\n"
          ],
          "name": "stdout"
        },
        {
          "output_type": "display_data",
          "data": {
            "image/png": "[encoded data removed]",
            "text/plain": [
              "<Figure size 432x432 with 1 Axes>"
            ]
          },
          "metadata": {
            "tags": []
          }
        }
      ]
    }
  ]
}
